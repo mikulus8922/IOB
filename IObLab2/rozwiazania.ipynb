{
 "cells": [
  {
   "cell_type": "markdown",
   "metadata": {},
   "source": [
    "# Zadanie 1"
   ]
  },
  {
   "cell_type": "code",
   "execution_count": 1,
   "metadata": {},
   "outputs": [
    {
     "name": "stdout",
     "output_type": "stream",
     "text": [
      "tekst\n"
     ]
    }
   ],
   "source": [
    "print('tekst')"
   ]
  },
  {
   "cell_type": "markdown",
   "metadata": {},
   "source": [
    "# Zadanie 2"
   ]
  },
  {
   "cell_type": "code",
   "execution_count": 3,
   "metadata": {},
   "outputs": [
    {
     "name": "stdout",
     "output_type": "stream",
     "text": [
      "  ______\n",
      "| Howdy? |\n",
      "  ======\n",
      "              \\\n",
      "               \\\n",
      "                \\\n",
      "                 \\\n",
      "                                           / `.   .' \"\n",
      "                                   .---.  <    > <    >  .---.\n",
      "                                   |    \\  \\ - ~ ~ - /  /    |\n",
      "               _____          ..-~             ~-..-~\n",
      "              |     |   \\~~~\\.'                    `./~~~/\n",
      "             ---------   \\__/                        \\__/\n",
      "            .'  O    \\     /               /       \\  \"\n",
      "           (_____,    `._.'               |         }  \\/~~~/\n",
      "            `----.          /       }     |        /    \\__/\n",
      "                  `-.      |       /      |       /      `. ,~~|\n",
      "                      ~-.__|      /_ - ~ ^|      /- _      `..-'\n",
      "                           |     /        |     /     ~-.     `-. _  _  _\n",
      "                           |_____|        |_____|         ~ - . _ _ _ _ _>\n"
     ]
    }
   ],
   "source": [
    "import cowsay\n",
    "\n",
    "cowsay.stegosaurus(\"Howdy?\")"
   ]
  },
  {
   "cell_type": "markdown",
   "metadata": {},
   "source": [
    "# Zadanie 3"
   ]
  },
  {
   "cell_type": "code",
   "execution_count": 4,
   "metadata": {},
   "outputs": [],
   "source": [
    "import math\n",
    "\n",
    "def ceil_of_exp(x):\n",
    "    return math.ceil(math.exp(x))\n",
    "\n",
    "wej = open(\"wej.txt\", \"r\")\n",
    "wyj = open(\"wyj.txt\", \"w\")\n",
    "\n",
    "for line in wej:\n",
    "    wyj.write(str(ceil_of_exp(int(line))) + \"\\n\")\n",
    "              \n",
    "wej.close()\n",
    "wyj.close()\n",
    "              "
   ]
  },
  {
   "cell_type": "markdown",
   "metadata": {},
   "source": [
    "# Zadanie 4"
   ]
  },
  {
   "cell_type": "code",
   "execution_count": 5,
   "metadata": {},
   "outputs": [
    {
     "name": "stdout",
     "output_type": "stream",
     "text": [
      "25.97\n",
      "20.98\n",
      "36.97\n",
      "36.97\n"
     ]
    }
   ],
   "source": [
    "class Product:\n",
    "    def __init__(self, name, price, quantity):\n",
    "        self.name = name\n",
    "        self.price = price\n",
    "        self.quantity = quantity\n",
    "\n",
    "\n",
    "class Cart:\n",
    "    def __init__(self):\n",
    "        self.product_list = []\n",
    "        self.product_list.append(Product(\"milk\", 4.99, 2))\n",
    "        self.product_list.append(Product(\"meat\", 15.99, 1))\n",
    "\n",
    "    \n",
    "    def add(self, name):\n",
    "        for p in self.product_list:\n",
    "            if name == p.name:\n",
    "                p.quantity += 1\n",
    "    \n",
    "\n",
    "    def remove(self, name):\n",
    "        for p in self.product_list:\n",
    "            if name == p.name:\n",
    "                if p.quantity != 0:\n",
    "                    p.quantity -= 1\n",
    "\n",
    "\n",
    "    def total_price(self):\n",
    "        total_cost = 0.0\n",
    "        for p in self.product_list:\n",
    "            total_cost += p.price * p.quantity\n",
    "        return total_cost\n",
    "\n",
    "\n",
    "sample_cart = Cart()\n",
    "\n",
    "print(sample_cart.total_price())\n",
    "sample_cart.remove(\"milk\")\n",
    "print(sample_cart.total_price())\n",
    "sample_cart.add(\"meat\")\n",
    "print(sample_cart.total_price())\n",
    "sample_cart.remove(\"cola\")\n",
    "print(sample_cart.total_price())\n"
   ]
  },
  {
   "cell_type": "markdown",
   "metadata": {},
   "source": [
    "# Zadanie 5"
   ]
  },
  {
   "cell_type": "code",
   "execution_count": 8,
   "metadata": {},
   "outputs": [
    {
     "name": "stdout",
     "output_type": "stream",
     "text": [
      "Print product:\n",
      "Name: milk; Price: 4.99\n",
      "Print cart:\n",
      "Name: milk; Price: 4.99; Quantity: 2\n",
      "Name: meat; Price: 15.99; Quantity: 1\n",
      "\n",
      "Print cart length:\n",
      "3\n",
      "Print by iteration:\n",
      "Name: milk; Price: 4.99\n",
      "Name: meat; Price: 15.99\n"
     ]
    }
   ],
   "source": [
    "class Product:\n",
    "    def __init__(self, name, price, quantity):\n",
    "        self.name = name\n",
    "        self.price = price\n",
    "        self.quantity = quantity\n",
    "\n",
    "    \n",
    "    def __str__(self):\n",
    "        return (f'Name: {self.name}; Price: {self.price}')\n",
    "\n",
    "\n",
    "class Cart:\n",
    "    def __init__(self):\n",
    "        self.product_list = []\n",
    "        self.product_list.append(Product(\"milk\", 4.99, 2))\n",
    "        self.product_list.append(Product(\"meat\", 15.99, 1))\n",
    "\n",
    "\n",
    "    def __str__(self):\n",
    "        string = \"\"\n",
    "        for p in self.product_list:\n",
    "            string += (f'Name: {p.name}; Price: {p.price}; Quantity: {p.quantity}\\n')\n",
    "        return (string)\n",
    "    \n",
    "\n",
    "    def __len__(self):\n",
    "        size = 0\n",
    "        for p in self.product_list:\n",
    "            size += p.quantity\n",
    "        return size\n",
    "\n",
    "\n",
    "    def __iter__(self):\n",
    "        self.n = 0\n",
    "        return self\n",
    "\n",
    "    def __next__(self):\n",
    "        if self.n < len(self.product_list):\n",
    "            result = self.product_list[self.n]\n",
    "            self.n += 1\n",
    "            return result\n",
    "        else:\n",
    "            raise StopIteration\n",
    "\n",
    "\n",
    "    def add(self, name):\n",
    "        for p in self.product_list:\n",
    "            if name == p.name:\n",
    "                p.quantity += 1\n",
    "    \n",
    "\n",
    "    def remove(self, name):\n",
    "        for p in self.product_list:\n",
    "            if name == p.name:\n",
    "                if p.quantity != 0:\n",
    "                    p.quantity -= 1\n",
    "\n",
    "\n",
    "    def total_price(self):\n",
    "        total_cost = 0.0\n",
    "        for p in self.product_list:\n",
    "            total_cost += p.price * p.quantity\n",
    "        return total_cost\n",
    "\n",
    "\n",
    "sample_cart = Cart()\n",
    "\n",
    "print(\"Print product:\")\n",
    "print(sample_cart.product_list[0].__str__())\n",
    "\n",
    "print(\"Print cart:\")\n",
    "print(sample_cart.__str__())\n",
    "\n",
    "print(\"Print cart length:\")\n",
    "print(sample_cart.__len__())\n",
    "\n",
    "print(\"Print by iteration:\")\n",
    "for product in sample_cart:\n",
    "    print(product)"
   ]
  }
 ],
 "metadata": {
  "kernelspec": {
   "display_name": "Python 3 (ipykernel)",
   "language": "python",
   "name": "python3"
  },
  "language_info": {
   "codemirror_mode": {
    "name": "ipython",
    "version": 3
   },
   "file_extension": ".py",
   "mimetype": "text/x-python",
   "name": "python",
   "nbconvert_exporter": "python",
   "pygments_lexer": "ipython3",
   "version": "3.9.10"
  }
 },
 "nbformat": 4,
 "nbformat_minor": 4
}
